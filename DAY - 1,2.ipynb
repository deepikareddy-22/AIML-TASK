{
 "cells": [
  {
   "cell_type": "code",
   "execution_count": 1,
   "id": "d21c2418",
   "metadata": {},
   "outputs": [
    {
     "name": "stdout",
     "output_type": "stream",
     "text": [
      "Integer Variable: 42, Type: <class 'int'>\n",
      "Float Variable: 3.14, Type: <class 'float'>\n",
      "String Variable: 'Hello, Jupyter!', Type: <class 'str'>\n",
      "Boolean Variable: True, Type: <class 'bool'>\n"
     ]
    }
   ],
   "source": [
    "integer_var = 42               \n",
    "float_var = 3.14                \n",
    "string_var = \"Hello, Jupyter!\" \n",
    "boolean_var = True              \n",
    "print(f\"Integer Variable: {integer_var}, Type: {type(integer_var)}\")\n",
    "print(f\"Float Variable: {float_var}, Type: {type(float_var)}\")\n",
    "print(f\"String Variable: '{string_var}', Type: {type(string_var)}\")\n",
    "print(f\"Boolean Variable: {boolean_var}, Type: {type(boolean_var)}\")\n"
   ]
  },
  {
   "cell_type": "code",
   "execution_count": 5,
   "id": "a906ad43",
   "metadata": {},
   "outputs": [
    {
     "name": "stdout",
     "output_type": "stream",
     "text": [
      "Tuple:  (100, 200, 300, 400, 500)\n",
      "Second element: 200\n",
      "Fourth element: 400\n",
      "Last element: 500\n"
     ]
    }
   ],
   "source": [
    "#tuple with 5 elements\n",
    "my_tuple = (100, 200, 300, 400, 500)\n",
    "second_element = my_tuple[1]   \n",
    "fourth_element = my_tuple[3]   \n",
    "last_element_tuple = my_tuple[-1]  \n",
    "\n",
    "print(\"Tuple: \", my_tuple)\n",
    "print(\"Second element:\", second_element)\n",
    "print(\"Fourth element:\", fourth_element)\n",
    "print(\"Last element:\", last_element_tuple)\n"
   ]
  },
  {
   "cell_type": "code",
   "execution_count": 6,
   "id": "a668a534",
   "metadata": {},
   "outputs": [
    {
     "name": "stdout",
     "output_type": "stream",
     "text": [
      "Dictionary: {'name': 'Alice', 'age': 25, 'city': 'New York', 'job': 'Engineer', 'country': 'USA'}\n",
      "Name: Alice\n",
      "Age: 25\n",
      "City: New York\n",
      "Country: USA\n"
     ]
    }
   ],
   "source": [
    "#dictionary with 5 key-value pairs\n",
    "my_dict = {\n",
    "    'name': 'Alice',\n",
    "    'age': 25,\n",
    "    'city': 'New York',\n",
    "    'job': 'Engineer',\n",
    "    'country': 'USA'\n",
    "}\n",
    "name = my_dict['name']   \n",
    "age = my_dict['age']    \n",
    "city = my_dict.get('city')   \n",
    "country = my_dict.get('country')\n",
    "print(\"Dictionary:\", my_dict)\n",
    "print(\"Name:\", name)\n",
    "print(\"Age:\", age)\n",
    "print(\"City:\", city)\n",
    "print(\"Country:\", country)\n"
   ]
  },
  {
   "cell_type": "code",
   "execution_count": null,
   "id": "1dd925b3",
   "metadata": {},
   "outputs": [],
   "source": []
  }
 ],
 "metadata": {
  "kernelspec": {
   "display_name": "Python 3 (ipykernel)",
   "language": "python",
   "name": "python3"
  },
  "language_info": {
   "codemirror_mode": {
    "name": "ipython",
    "version": 3
   },
   "file_extension": ".py",
   "mimetype": "text/x-python",
   "name": "python",
   "nbconvert_exporter": "python",
   "pygments_lexer": "ipython3",
   "version": "3.11.5"
  }
 },
 "nbformat": 4,
 "nbformat_minor": 5
}
