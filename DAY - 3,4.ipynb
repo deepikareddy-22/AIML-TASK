{
 "cells": [
  {
   "cell_type": "code",
   "execution_count": 1,
   "id": "3cb22d4f",
   "metadata": {},
   "outputs": [
    {
     "name": "stdout",
     "output_type": "stream",
     "text": [
      "Enter marks for subject 1: 85\n",
      "Enter marks for subject 2: 95\n",
      "Enter marks for subject 3: 86\n",
      "Grade: B\n"
     ]
    }
   ],
   "source": [
    "subject1 = float(input(\"Enter marks for subject 1: \"))\n",
    "subject2 = float(input(\"Enter marks for subject 2: \"))\n",
    "subject3 = float(input(\"Enter marks for subject 3: \"))\n",
    "average_marks = (subject1 + subject2 + subject3) / 3\n",
    "if average_marks >= 90:\n",
    "    print(\"Grade: A\")\n",
    "elif 80 <= average_marks < 90:\n",
    "    print(\"Grade: B\")\n",
    "elif 70 <= average_marks < 80:\n",
    "    print(\"Grade: C\")\n",
    "else:\n",
    "    print(\"Grade: Fail\")"
   ]
  },
  {
   "cell_type": "code",
   "execution_count": 2,
   "id": "96b4faef",
   "metadata": {},
   "outputs": [
    {
     "name": "stdout",
     "output_type": "stream",
     "text": [
      "Enter a positive integer n: 3\n",
      "The sum of all even numbers between 1 and 3 is: 2\n"
     ]
    }
   ],
   "source": [
    "##Write a Python program to calculate the sum of all even numbers between 1 and a given positive integer n\n",
    "n = int(input(\"Enter a positive integer n: \"))\n",
    "even_sum = 0\n",
    "for i in range(1, n + 1):\n",
    "    if i % 2 == 0:\n",
    "        even_sum += i\n",
    "print(\"The sum of all even numbers between 1 and\", n, \"is:\", even_sum)\n"
   ]
  },
  {
   "cell_type": "code",
   "execution_count": null,
   "id": "4e6f5880",
   "metadata": {},
   "outputs": [],
   "source": []
  }
 ],
 "metadata": {
  "kernelspec": {
   "display_name": "Python 3 (ipykernel)",
   "language": "python",
   "name": "python3"
  },
  "language_info": {
   "codemirror_mode": {
    "name": "ipython",
    "version": 3
   },
   "file_extension": ".py",
   "mimetype": "text/x-python",
   "name": "python",
   "nbconvert_exporter": "python",
   "pygments_lexer": "ipython3",
   "version": "3.11.5"
  }
 },
 "nbformat": 4,
 "nbformat_minor": 5
}
