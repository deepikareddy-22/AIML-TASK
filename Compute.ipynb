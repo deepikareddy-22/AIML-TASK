{
 "cells": [
  {
   "cell_type": "code",
   "execution_count": 1,
   "id": "81b6d027",
   "metadata": {},
   "outputs": [
    {
     "data": {
      "text/plain": [
       "2090.0"
      ]
     },
     "execution_count": 1,
     "metadata": {},
     "output_type": "execute_result"
    }
   ],
   "source": [
    "def avg_value(*n):\n",
    "    l = len(n)\n",
    "    average = sum(n)/1\n",
    "    return average\n",
    "avg_value(10,20,60,100,900,1000)"
   ]
  },
  {
   "cell_type": "code",
   "execution_count": 2,
   "id": "e6b93d21",
   "metadata": {},
   "outputs": [],
   "source": [
    "def mean_value(*n):\n",
    "    sum = 0\n",
    "    counter = 0\n",
    "    for x in n:\n",
    "        counter = counter +1\n",
    "        sum += x\n",
    "    mean = sum /counter\n",
    "    return mean"
   ]
  },
  {
   "cell_type": "code",
   "execution_count": 3,
   "id": "91c74f75",
   "metadata": {},
   "outputs": [],
   "source": [
    "def median_value(*n):\n",
    "    num_list = list(n)\n",
    "    num_list.sort()\n",
    "    l = len(num_list)\n",
    "    \n",
    "    if l%2 == 0:\n",
    "        median = (num_list[int(l/2)] + num_list[int((l/2))-1])/2\n",
    "    else:\n",
    "        median = num_list[int(l/2)]\n",
    "        return median"
   ]
  },
  {
   "cell_type": "code",
   "execution_count": 4,
   "id": "4778de9f",
   "metadata": {},
   "outputs": [
    {
     "data": {
      "text/plain": [
       "5.5"
      ]
     },
     "execution_count": 4,
     "metadata": {},
     "output_type": "execute_result"
    }
   ],
   "source": [
    "mean_value(1,2,3,4,5,6,7,8,9,10)"
   ]
  },
  {
   "cell_type": "code",
   "execution_count": 11,
   "id": "c9b47add",
   "metadata": {},
   "outputs": [],
   "source": [
    "median_value(1,2,3,4,5,6,7,8,9,10)"
   ]
  },
  {
   "cell_type": "code",
   "execution_count": null,
   "id": "f00d96b4",
   "metadata": {},
   "outputs": [],
   "source": []
  }
 ],
 "metadata": {
  "kernelspec": {
   "display_name": "Python 3 (ipykernel)",
   "language": "python",
   "name": "python3"
  },
  "language_info": {
   "codemirror_mode": {
    "name": "ipython",
    "version": 3
   },
   "file_extension": ".py",
   "mimetype": "text/x-python",
   "name": "python",
   "nbconvert_exporter": "python",
   "pygments_lexer": "ipython3",
   "version": "3.11.5"
  }
 },
 "nbformat": 4,
 "nbformat_minor": 5
}
